{
 "cells": [
  {
   "cell_type": "code",
   "execution_count": 33,
   "id": "7810ed70",
   "metadata": {},
   "outputs": [],
   "source": [
    "import pandas as pd\n",
    "import numpy as np\n",
    "from matplotlib import pyplot as plt"
   ]
  },
  {
   "cell_type": "code",
   "execution_count": 36,
   "id": "2af26618",
   "metadata": {},
   "outputs": [
    {
     "data": {
      "text/html": [
       "<div>\n",
       "<style scoped>\n",
       "    .dataframe tbody tr th:only-of-type {\n",
       "        vertical-align: middle;\n",
       "    }\n",
       "\n",
       "    .dataframe tbody tr th {\n",
       "        vertical-align: top;\n",
       "    }\n",
       "\n",
       "    .dataframe thead th {\n",
       "        text-align: right;\n",
       "    }\n",
       "</style>\n",
       "<table border=\"1\" class=\"dataframe\">\n",
       "  <thead>\n",
       "    <tr style=\"text-align: right;\">\n",
       "      <th></th>\n",
       "      <th>Exc-wall dist (cm)</th>\n",
       "      <th>Tag-wall dist (cm)</th>\n",
       "      <th>Tag Voltage (mV)</th>\n",
       "    </tr>\n",
       "  </thead>\n",
       "  <tbody>\n",
       "    <tr>\n",
       "      <th>44</th>\n",
       "      <td>121.2</td>\n",
       "      <td>49.5</td>\n",
       "      <td>[86.25 85.79 85.49 85.49 85.87 86.48 85.79 85....</td>\n",
       "    </tr>\n",
       "    <tr>\n",
       "      <th>45</th>\n",
       "      <td>121.2</td>\n",
       "      <td>50.5</td>\n",
       "      <td>[186.73 186.73 186.66 186.35 186.2  185.97 186...</td>\n",
       "    </tr>\n",
       "    <tr>\n",
       "      <th>46</th>\n",
       "      <td>121.2</td>\n",
       "      <td>51.5</td>\n",
       "      <td>[298.2  297.51 297.74 298.12 297.89 296.52 297...</td>\n",
       "    </tr>\n",
       "    <tr>\n",
       "      <th>47</th>\n",
       "      <td>121.2</td>\n",
       "      <td>52.5</td>\n",
       "      <td>[422.87 422.71 422.1  422.87 422.33 422.79 422...</td>\n",
       "    </tr>\n",
       "    <tr>\n",
       "      <th>48</th>\n",
       "      <td>121.2</td>\n",
       "      <td>53.5</td>\n",
       "      <td>[544.79 544.86 544.79 544.71 544.56 544.86 545...</td>\n",
       "    </tr>\n",
       "  </tbody>\n",
       "</table>\n",
       "</div>"
      ],
      "text/plain": [
       "    Exc-wall dist (cm)  Tag-wall dist (cm)  \\\n",
       "44               121.2                49.5   \n",
       "45               121.2                50.5   \n",
       "46               121.2                51.5   \n",
       "47               121.2                52.5   \n",
       "48               121.2                53.5   \n",
       "\n",
       "                                     Tag Voltage (mV)  \n",
       "44  [86.25 85.79 85.49 85.49 85.87 86.48 85.79 85....  \n",
       "45  [186.73 186.73 186.66 186.35 186.2  185.97 186...  \n",
       "46  [298.2  297.51 297.74 298.12 297.89 296.52 297...  \n",
       "47  [422.87 422.71 422.1  422.87 422.33 422.79 422...  \n",
       "48  [544.79 544.86 544.79 544.71 544.56 544.86 545...  "
      ]
     },
     "execution_count": 36,
     "metadata": {},
     "output_type": "execute_result"
    }
   ],
   "source": [
    "data=pd.read_csv(\"voltageData.csv\")\n",
    "data.tail()"
   ]
  },
  {
   "cell_type": "code",
   "execution_count": null,
   "id": "59578c7d",
   "metadata": {},
   "outputs": [],
   "source": [
    "tag_wall_dist=data[\"Tag-wall dist (cm)\"].to_numpy()\n",
    "Y=[np.median(list(map(float, y.replace('[','').replace(']','').split()))) for y in data[\"Tag Voltage (mV)\"]]\n"
   ]
  },
  {
   "cell_type": "code",
   "execution_count": 35,
   "id": "357c22a8",
   "metadata": {},
   "outputs": [
    {
     "data": {
      "text/plain": [
       "[<matplotlib.lines.Line2D at 0x1148f0250>]"
      ]
     },
     "execution_count": 35,
     "metadata": {},
     "output_type": "execute_result"
    },
    {
     "data": {
      "image/png": "[encoded data removed]",
      "text/plain": [
       "<Figure size 640x480 with 1 Axes>"
      ]
     },
     "metadata": {},
     "output_type": "display_data"
    }
   ],
   "source": [
    "plt.plot(X,Y,'.')"
   ]
  }
 ],
 "metadata": {
  "kernelspec": {
   "display_name": ".venv",
   "language": "python",
   "name": "python3"
  },
  "language_info": {
   "codemirror_mode": {
    "name": "ipython",
    "version": 3
   },
   "file_extension": ".py",
   "mimetype": "text/x-python",
   "name": "python",
   "nbconvert_exporter": "python",
   "pygments_lexer": "ipython3",
   "version": "3.10.16"
  }
 },
 "nbformat": 4,
 "nbformat_minor": 5
}
